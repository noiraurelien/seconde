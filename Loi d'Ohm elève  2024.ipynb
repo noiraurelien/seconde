{
 "cells": [
  {
   "cell_type": "markdown",
   "metadata": {},
   "source": [
    "# III. Tracé de la caractéristique d'un dipôle et vérification de la loi d'Ohm. "
   ]
  },
  {
   "cell_type": "markdown",
   "metadata": {
    "raw_mimetype": "text/restructuredtext"
   },
   "source": [
    "<div class = 'alert alert-info'>\n",
    "Pour exécuter le code écrit dans un bloc : <b>MAJ-ENTREE </b><br>\n",
    "    Pour recommencer depuis le début : Menu <b>Kernel / Restart and clear output </b><br>\n",
    "    Toujours exécuter dans l'ordre le code  écrit dans les blocs précédés de la mention <b>Entrée  [  ]</b>\n",
    "</div>"
   ]
  },
  {
   "cell_type": "markdown",
   "metadata": {},
   "source": [
    "<div class = 'alert alert-warning'>Importation des modules de calcul et de tracé de courbe.\n",
    "    </div>"
   ]
  },
  {
   "cell_type": "code",
   "execution_count": null,
   "metadata": {},
   "outputs": [],
   "source": [
    "import matplotlib.pyplot as plt\n",
    "%matplotlib inline\n",
    "import scipy.stats as sc\n",
    "import numpy as np"
   ]
  },
  {
   "cell_type": "markdown",
   "metadata": {},
   "source": [
    "## III.1. Entrée des mesures expérimentales"
   ]
  },
  {
   "cell_type": "markdown",
   "metadata": {},
   "source": [
    "<div class = 'alert alert-info'>\n",
    "Il s'agit ici d'entrer les données de tension et intensité dans des variables Python de type \"liste\" afin de créer des tableaux.</b><br>\n",
    "Compléter ci-dessous les lignes en entrant entre les crochets les valeurs de U en volts dans le premier tableau, puis de I en mA. <br>\n",
    "Le séparateur décimal doit être le point '.' Chaque valeur de U et de I est séparée de la précédente par une virgule ','\n",
    "</div>"
   ]
  },
  {
   "cell_type": "code",
   "execution_count": null,
   "metadata": {},
   "outputs": [],
   "source": [
    "liste_U =np.array([   ])           # A COMPLETER liste des valeurs de tensions en V\n",
    "liste_I = np.array([    ])         # A COMPLETER liste des valeurs d'intensités en mA"
   ]
  },
  {
   "cell_type": "markdown",
   "metadata": {},
   "source": [
    "<div class = 'alert alert-info'>\n",
    "Compléter ci-dessous la ligne de code permettant de convertir les valeurs de I en A.</b><br>"
   ]
  },
  {
   "cell_type": "code",
   "execution_count": null,
   "metadata": {},
   "outputs": [],
   "source": [
    "liste_I =          # A COMPLETER instruction permettant de convertir chaque terme de la liste des valeurs de I en A\n",
    "print(\"U en V : \",U)          # Affiche la liste des valeurs de  U  en V\n",
    "print(\"I en A : \",liste_I)          # Affiche la liste des valeurs de I en A"
   ]
  },
  {
   "cell_type": "markdown",
   "metadata": {},
   "source": [
    "## III.2. Tracé de la caractéristique"
   ]
  },
  {
   "cell_type": "markdown",
   "metadata": {},
   "source": [
    "<div class = 'alert alert-info'>\n",
    "Compléter la ligne avec la commande \"pltplot\" afin de faire afficher la caractéristique du dipôle étudié.<br>\n",
    "Compléter les lignes du programme permettant de donner une légende aux axes et un titre au graphique.\n",
    "    </div>"
   ]
  },
  {
   "cell_type": "code",
   "execution_count": null,
   "metadata": {},
   "outputs": [],
   "source": [
    "plt.figure (figsize = (10,8))    # indique les dimensions du graphique  #         \n",
    "plt.plot(     ,    ,\"ro\")  # A COMPLETER indique les grandeurs sur les axes sous la forme : pltplot(abscisse,ordonnée, ...) ,\"ro\" indique un rond pour représenter un point)  #    \n",
    "plt.xlabel(\"      \")    # A COMPLETER indique le titre de l'axe des abscisses  #\n",
    "plt.ylabel(\"      \")    # A COMPLETER indique le titre de l'axe des ordonnées #\n",
    "plt.title (\"    \")   # A COMPLETER indique le titre du graphique #\n",
    "plt.grid()  # crée une grille sur le graphique #\n",
    "plt.show ()           # fait afficher le graphe #"
   ]
  },
  {
   "cell_type": "markdown",
   "metadata": {},
   "source": [
    "<div class = 'alert alert-info'>\n",
    "Imprimer le graphique obtenu et le coller dans le compte-rendu.\n",
    "    </div>"
   ]
  },
  {
   "cell_type": "markdown",
   "metadata": {},
   "source": [
    "## C'est fini\n",
    "Il ne reste plus qu'à télécharger le fichier !"
   ]
  },
  {
   "cell_type": "markdown",
   "metadata": {},
   "source": [
    "<div class = 'alert alert-success'><h4>La commande suivante imprime toutes les lignes de code exécutées depuis la dernière initialisation de la page (Restart and Clear Output) <br><br>Cela permet de les copier dans Spyder ou dans un fichier .text par exemple.</h4></div>"
   ]
  },
  {
   "cell_type": "code",
   "execution_count": null,
   "metadata": {},
   "outputs": [],
   "source": [
    "%history"
   ]
  }
 ],
 "metadata": {
  "kernelspec": {
   "display_name": "Python 3",
   "language": "python",
   "name": "python3"
  },
  "language_info": {
   "codemirror_mode": {
    "name": "ipython",
    "version": 3
   },
   "file_extension": ".py",
   "mimetype": "text/x-python",
   "name": "python",
   "nbconvert_exporter": "python",
   "pygments_lexer": "ipython3",
   "version": "3.8.3"
  }
 },
 "nbformat": 4,
 "nbformat_minor": 4
}
