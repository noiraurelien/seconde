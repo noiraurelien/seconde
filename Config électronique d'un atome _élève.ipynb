{
 "cells": [
  {
   "cell_type": "markdown",
   "metadata": {},
   "source": [
    "# Configuration électronique d'un atome"
   ]
  },
  {
   "cell_type": "markdown",
   "metadata": {
    "raw_mimetype": "text/restructuredtext"
   },
   "source": [
    "<div class = 'alert alert-info'>\n",
    "Pour exécuter le code écrit dans un bloc : <b>MAJ-ENTREE </b><br>\n",
    "    Pour recommencer depuis le début : Menu <b>Kernel / Restart and clear output </b><br>\n",
    "    Toujours exécuter dans l'ordre le code  écrit dans les blocs précédés de la mention <b>Entrée  [  ]</b>\n",
    "</div>"
   ]
  },
  {
   "cell_type": "markdown",
   "metadata": {},
   "source": [
    "<div class = 'alert alert-warning'>Importation des modules de calcul et de tracé de courbe.\n",
    "    </div>"
   ]
  },
  {
   "cell_type": "code",
   "execution_count": 41,
   "metadata": {},
   "outputs": [],
   "source": [
    "import matplotlib.pyplot as plt\n",
    "%matplotlib inline\n",
    "import numpy as np"
   ]
  },
  {
   "cell_type": "markdown",
   "metadata": {},
   "source": [
    "## 1. Etablissement de la configuration électronique pour Z ≤ 2"
   ]
  },
  {
   "cell_type": "markdown",
   "metadata": {},
   "source": [
    "<div class = 'alert alert-warning'>\n",
    "1. Dans la 1ère ligne du programme ci-dessous, remplacer les \"...\" par la valeur 1.<br>\n",
    "2. Exécuter le programme pour vérifier le bon fonctionnement de celui-ci. Vérifier que le résultat donné est cohérent.<br>\n",
    "3. Tester le programme cette fois avec l'atome d'Hélium.<br>\n",
    "4. Expliquer pourquoi le programme ne fonctionnerait pas si on écrivait : configuration = \"(1s)\" + Z. </div>\n",
    " "
   ]
  },
  {
   "cell_type": "code",
   "execution_count": 42,
   "metadata": {},
   "outputs": [
    {
     "name": "stdout",
     "output_type": "stream",
     "text": [
      "La configuration électronique de l'atome de numéro atomique 1  : (1s)1\n"
     ]
    }
   ],
   "source": [
    "Z= ...                 #Création de la variable Z de type entier \n",
    "\n",
    "configuration = \" \"     #Création de la variable configuration de type chaine de caractères \"string\"  \n",
    "\n",
    "if Z <= 2:       #initialisation d'une boucle de type if (si..)\n",
    "    configuration = \"(1s)\" + str(Z)  #la variable configuration renvoie à la chaine de caractère (1s) suivi du caractère associé à Z\n",
    "\n",
    "print(\"La configuration électronique de l'atome de numéro atomique\",Z,\" :\", configuration) # écriture du résultat"
   ]
  },
  {
   "cell_type": "markdown",
   "metadata": {},
   "source": [
    "## 2. Etablissement de la configuration électronique pour 1 ≤  Z ≤ 18"
   ]
  },
  {
   "cell_type": "markdown",
   "metadata": {},
   "source": [
    "<div class = 'alert alert-warning'>\n",
    "On souhaite d'abord élargir le programme aux atomes dont le numéro atomique est <strong>compris entre 1 et 10.</strong><br>\n",
    "1. Compléter de façon adéquate les contenus manquants des instructions str().<br>\n",
    "2. Exécutez le programme avec un numéro atomique compris entre 3 et 10 pour vérifier le bon fonctionnement de celui-ci. Vérifier que le résultat donné est cohérent.<br>\n",
    "\n",
    "On souhaite enfin terminer le programme afin qu'il fonctionne pour les atomes dont Z est <strong>compris entre 1 et 10. </strong> <br>\n",
    "3. Compléter le programme pour étendre celui-ci aux atomes de numéro atomique compris entre 1 et 18.</div>"
   ]
  },
  {
   "cell_type": "code",
   "execution_count": null,
   "metadata": {},
   "outputs": [],
   "source": [
    "Z=                  #Création de la variable Z de type entier \n",
    "\n",
    "configuration = \" \"     #Création de la variable configuration de type chaine de caractères \"string\"  \n",
    "\n",
    "if Z <= 2:       # condition de type if (si..) \n",
    "    configuration = \"(1s)\" + str(Z)  #la variable configuration renvoie à la chaine de caractère (1s) suivi du caractère associé à Z\n",
    "\n",
    "elif Z <=4:        # elif est la contraction de else is (sinon si ...)\n",
    "    configuration  = \"(1s)\" + str(2) + \" (2s)\" + str(....)\n",
    "\n",
    "elif Z <= 10:\n",
    "    configuration  = \"(1s)\" + str(2) + \" (2s)\" + str(2)+ \" (2p)\" + str(...)\n",
    "\n",
    "    \n",
    "    \n",
    "\n",
    "print(\"La configuration électronique de l'atome de numéro atomique\",Z,\" :\", configuration) # écriture du résultat"
   ]
  },
  {
   "cell_type": "markdown",
   "metadata": {},
   "source": [
    "## C'est fini\n",
    "Il ne reste plus qu'à télécharger le fichier !"
   ]
  },
  {
   "cell_type": "markdown",
   "metadata": {},
   "source": [
    "<div class = 'alert alert-success'><h4>La commande suivante imprime toutes les lignes de code exécutées depuis la dernière initialisation de la page (Restart and Clear Output) <br><br>Cela permet de les copier dans Spyder ou dans un fichier .text par exemple.</h4></div>"
   ]
  },
  {
   "cell_type": "code",
   "execution_count": null,
   "metadata": {},
   "outputs": [],
   "source": [
    "%history"
   ]
  }
 ],
 "metadata": {
  "kernelspec": {
   "display_name": "Python 3",
   "language": "python",
   "name": "python3"
  },
  "language_info": {
   "codemirror_mode": {
    "name": "ipython",
    "version": 3
   },
   "file_extension": ".py",
   "mimetype": "text/x-python",
   "name": "python",
   "nbconvert_exporter": "python",
   "pygments_lexer": "ipython3",
   "version": "3.8.3"
  }
 },
 "nbformat": 4,
 "nbformat_minor": 4
}
