{
 "cells": [
  {
   "cell_type": "markdown",
   "metadata": {},
   "source": [
    "# Tracé de vecteurs vitesses "
   ]
  },
  {
   "cell_type": "markdown",
   "metadata": {
    "raw_mimetype": "text/restructuredtext"
   },
   "source": [
    "<div class = 'alert alert-info'>\n",
    "Pour exécuter le code écrit dans un bloc : <b>MAJ-ENTREE </b><br>\n",
    "    Pour recommencer depuis le début : Menu <b>Kernel / Restart and clear output </b><br>\n",
    "    Toujours exécuter dans l'ordre le code  écrit dans les blocs précédés de la mention <b>Entrée  [  ]</b>\n",
    "</div>"
   ]
  },
  {
   "cell_type": "markdown",
   "metadata": {},
   "source": [
    "<div class = 'alert alert-warning'>Importation des modules de calcul et de tracé de courbe.\n",
    "    </div>"
   ]
  },
  {
   "cell_type": "code",
   "execution_count": 1,
   "metadata": {},
   "outputs": [],
   "source": [
    "import matplotlib.pyplot as plt\n",
    "%matplotlib inline\n",
    "import numpy as np"
   ]
  },
  {
   "cell_type": "markdown",
   "metadata": {},
   "source": [
    "## 1. Données"
   ]
  },
  {
   "cell_type": "markdown",
   "metadata": {},
   "source": [
    "Un pointage d'un lancer de ballon a donné les coordonnées du centre de gravité du ballon à plusieurs dates.\n",
    "Le répère (Oxy) est orthonormé et l'axe (Ox) coïncide avec le sol.\n",
    "\n",
    "\n",
    "|   t(s)     |   x(m)    |   y(m)     |\n",
    "|---    |:-:    |:-:    |\n",
    "|   0    |    0   |     1,27  |\n",
    "|    0,120   | 0,43      |   1,88    |\n",
    "|   0,240    |  0,83     |  2,34     |\n",
    "| 0,360      | 1,26      |    2,64   |\n",
    "| 0,480      |   1,67    |   2,82    |\n",
    "|  0,600     |  2,05     |    2,85   |\n",
    "| 0,720      |   2,41    | 2,74      |\n",
    "| 0,840      |   2,81    | 2,54      |"
   ]
  },
  {
   "cell_type": "markdown",
   "metadata": {},
   "source": [
    "## 2. Représentation de la trajectoire du ballon"
   ]
  },
  {
   "cell_type": "markdown",
   "metadata": {},
   "source": [
    "<div class = 'alert alert-warning'>\n",
    " 1. Compléter ci-dessous les listes de chaque grandeur avec les valeurs correspondant au <strong>dernier point</strong> qui a été point<br>\n",
    " 2. Compléter la ligne du programme adéquate pour donner un titre au graphique.\n",
    "    </div>"
   ]
  },
  {
   "cell_type": "code",
   "execution_count": 28,
   "metadata": {},
   "outputs": [
    {
     "data": {
      "image/png": "[encoded data removed]",
      "text/plain": [
       "<Figure size 720x576 with 1 Axes>"
      ]
     },
     "metadata": {
      "needs_background": "light"
     },
     "output_type": "display_data"
    }
   ],
   "source": [
    "#   création des listes de valeurs pour chacune des grandeurs   #\n",
    "t = [0,0.120,0.240,0.360,0.480,0.600,0.720,0.840]\n",
    "x = [0,0.43,0.83,1.26,1.67,2.05,2.41,2.81] \n",
    "y = [1.27,1.88,2.34,2.64,2.82,2.85,2.74,2.54] \n",
    "  \n",
    "#   tracé du graphique représentant la trajectoire  #\n",
    "    \n",
    "plt.figure (figsize = (10,8))                # indique les dimensions du graphique  #         \n",
    "plt.plot(x,y ,\"ro\")     # indique la grandeur en abscisse, la grandeur en orodonnée,un rond pour représenter le point)  #    \n",
    "plt.xlabel(\" abscisse du point en m   \")    # indique le titre de l'axe des abscisses  #\n",
    "plt.ylabel(\" ordonnée du point en m  \")    # indique le titre de l'axe des ordonnées #\n",
    "plt.grid()  # crée une grille sur le graphique #\n",
    "plt.title (\"      \")   # indique le titre du graphique #\n",
    "plt.show ()           # fait afficher le graphe #\n",
    "    "
   ]
  },
  {
   "cell_type": "markdown",
   "metadata": {},
   "source": [
    "## 3. Tracé des vecteurs vitesses."
   ]
  },
  {
   "cell_type": "markdown",
   "metadata": {},
   "source": [
    "<div class = 'alert alert-warning'>\n",
    "1. Repérer la ligne du programme permettant de faire calculer les coordonnées du vecteur vitesse. Qu'indique-t-on avec les deux premiers paramètres dans la parenthèse ? <br>\n",
    "2. Exécuter le programme ci-dessous.<br>\n",
    "3. Proposer une modification du programme qui permettrait de réduire d'un facteur 5 les tailles des vecteurs vitesse au lieu d'un fecteur 10.<br>\n",
    "    </div>"
   ]
  },
  {
   "cell_type": "code",
   "execution_count": 29,
   "metadata": {},
   "outputs": [
    {
     "data": {
      "image/png": "[encoded data removed]",
      "text/plain": [
       "<Figure size 432x288 with 1 Axes>"
      ]
     },
     "metadata": {
      "needs_background": "light"
     },
     "output_type": "display_data"
    }
   ],
   "source": [
    "plt.xlim(0,4) # indique la valeur maximale de l'axe des abscisses #\n",
    "plt.ylim(0,4)  # indique la valeur maximale de l'axe des ordonnées #\n",
    "plt.plot(x,y ,\"ro\")        \n",
    "plt.xlabel(\" abscisse du point en m   \")   \n",
    "plt.ylabel(\" ordonnée du point en m  \")   \n",
    "plt.grid()  \n",
    "plt.title (\"Vecteurs vitesse du centre du ballon\")  \n",
    "for i in range(1,len(x)-1) :\n",
    "    plt.arrow(x[i], y[i], 0.1*(x[i+1]-x[i-1])/(t[i+1]-t[i-1]) ,0.1* (y[i+1]-y[i-1])/(t[i+1]-t[i-1]), head_width=0.05)\n",
    "    plt.text(x[i]+0.05,y[i]-0.3,r'$\\vec{v}$'+str(i), color=\"black\")\n",
    "plt.show ()          # fait afficher le graphe #"
   ]
  },
  {
   "cell_type": "markdown",
   "metadata": {},
   "source": [
    "<div class = 'alert alert-warning'>\n",
    "Imprimer \n",
    "<Hr>    "
   ]
  },
  {
   "cell_type": "markdown",
   "metadata": {},
   "source": [
    "## C'est fini\n",
    "Il ne reste plus qu'à télécharger le fichier !"
   ]
  },
  {
   "cell_type": "markdown",
   "metadata": {},
   "source": [
    "<div class = 'alert alert-success'><h4>La commande suivante imprime toutes les lignes de code exécutées depuis la dernière initialisation de la page (Restart and Clear Output) <br><br>Cela permet de les copier dans Spyder ou dans un fichier .text par exemple.</h4></div>"
   ]
  },
  {
   "cell_type": "code",
   "execution_count": null,
   "metadata": {},
   "outputs": [],
   "source": [
    "%history"
   ]
  }
 ],
 "metadata": {
  "kernelspec": {
   "display_name": "Python 3",
   "language": "python",
   "name": "python3"
  },
  "language_info": {
   "codemirror_mode": {
    "name": "ipython",
    "version": 3
   },
   "file_extension": ".py",
   "mimetype": "text/x-python",
   "name": "python",
   "nbconvert_exporter": "python",
   "pygments_lexer": "ipython3",
   "version": "3.8.3"
  }
 },
 "nbformat": 4,
 "nbformat_minor": 4
}
